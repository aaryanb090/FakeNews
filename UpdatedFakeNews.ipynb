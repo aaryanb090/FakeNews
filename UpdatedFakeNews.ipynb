{
 "cells": [
  {
   "cell_type": "markdown",
   "id": "903a041a-9d6a-4bad-b421-2d5497dd4dbd",
   "metadata": {},
   "source": [
    "# Import"
   ]
  },
  {
   "cell_type": "code",
   "execution_count": 1,
   "id": "f32ae511-2097-43bb-b79e-d4e22d9ea863",
   "metadata": {},
   "outputs": [
    {
     "name": "stderr",
     "output_type": "stream",
     "text": [
      "[nltk_data] Downloading package stopwords to\n",
      "[nltk_data]     C:\\Users\\aryan\\AppData\\Roaming\\nltk_data...\n",
      "[nltk_data]   Package stopwords is already up-to-date!\n",
      "[nltk_data] Downloading package punkt to\n",
      "[nltk_data]     C:\\Users\\aryan\\AppData\\Roaming\\nltk_data...\n",
      "[nltk_data]   Package punkt is already up-to-date!\n",
      "[nltk_data] Downloading package wordnet to\n",
      "[nltk_data]     C:\\Users\\aryan\\AppData\\Roaming\\nltk_data...\n",
      "[nltk_data]   Package wordnet is already up-to-date!\n"
     ]
    },
    {
     "data": {
      "text/plain": [
       "True"
      ]
     },
     "execution_count": 1,
     "metadata": {},
     "output_type": "execute_result"
    }
   ],
   "source": [
    "import numpy as np\n",
    "import pandas as pd\n",
    "import re\n",
    "from nltk.corpus import stopwords\n",
    "from nltk.tokenize import word_tokenize\n",
    "from nltk.stem import WordNetLemmatizer\n",
    "from sklearn.feature_extraction.text import TfidfVectorizer\n",
    "from sklearn.model_selection import GridSearchCV\n",
    "from sklearn.model_selection import train_test_split\n",
    "from sklearn.linear_model import LogisticRegression\n",
    "from sklearn.ensemble import RandomForestClassifier\n",
    "from xgboost import XGBClassifier\n",
    "from sklearn.svm import SVC\n",
    "from sklearn.metrics import classification_report, confusion_matrix, accuracy_score\n",
    "from imblearn.over_sampling import SMOTE  # For handling class imbalance\n",
    "import nltk\n",
    "\n",
    "nltk.download('stopwords')\n",
    "nltk.download('punkt')\n",
    "nltk.download('wordnet')"
   ]
  },
  {
   "cell_type": "markdown",
   "id": "6f93297e-9077-44cb-a98f-ea3067d90003",
   "metadata": {},
   "source": [
    "# Data"
   ]
  },
  {
   "cell_type": "code",
   "execution_count": 2,
   "id": "63ee67d6-a687-40dd-90ce-5f6c8a95001b",
   "metadata": {},
   "outputs": [
    {
     "name": "stdout",
     "output_type": "stream",
     "text": [
      "   id                                              title              author  \\\n",
      "0   0  House Dem Aide: We Didn’t Even See Comey’s Let...       Darrell Lucus   \n",
      "1   1  FLYNN: Hillary Clinton, Big Woman on Campus - ...     Daniel J. Flynn   \n",
      "2   2                  Why the Truth Might Get You Fired  Consortiumnews.com   \n",
      "3   3  15 Civilians Killed In Single US Airstrike Hav...     Jessica Purkiss   \n",
      "4   4  Iranian woman jailed for fictional unpublished...      Howard Portnoy   \n",
      "\n",
      "                                                text  label  \\\n",
      "0  House Dem Aide: We Didn’t Even See Comey’s Let...      1   \n",
      "1  Ever get the feeling your life circles the rou...      0   \n",
      "2  Why the Truth Might Get You Fired October 29, ...      1   \n",
      "3  Videos 15 Civilians Killed In Single US Airstr...      1   \n",
      "4  Print \\nAn Iranian woman has been sentenced to...      1   \n",
      "\n",
      "                                             content  \n",
      "0  Darrell Lucus House Dem Aide: We Didn’t Even S...  \n",
      "1  Daniel J. Flynn FLYNN: Hillary Clinton, Big Wo...  \n",
      "2  Consortiumnews.com Why the Truth Might Get You...  \n",
      "3  Jessica Purkiss 15 Civilians Killed In Single ...  \n",
      "4  Howard Portnoy Iranian woman jailed for fictio...  \n",
      "<class 'pandas.core.frame.DataFrame'>\n",
      "RangeIndex: 20800 entries, 0 to 20799\n",
      "Data columns (total 6 columns):\n",
      " #   Column   Non-Null Count  Dtype \n",
      "---  ------   --------------  ----- \n",
      " 0   id       20800 non-null  int64 \n",
      " 1   title    20800 non-null  object\n",
      " 2   author   20800 non-null  object\n",
      " 3   text     20800 non-null  object\n",
      " 4   label    20800 non-null  int64 \n",
      " 5   content  20800 non-null  object\n",
      "dtypes: int64(2), object(4)\n",
      "memory usage: 975.1+ KB\n",
      "None\n"
     ]
    }
   ],
   "source": [
    "news_dataset = pd.read_csv('data/train.csv')\n",
    "news_dataset.fillna('', inplace=True)\n",
    "news_dataset['content'] = news_dataset['author'] + ' ' + news_dataset['title'] + ' ' + news_dataset['text']\n",
    "\n",
    "\n",
    "print(news_dataset.head())\n",
    "print(news_dataset.info())"
   ]
  },
  {
   "cell_type": "markdown",
   "id": "6c4c1f38-cbb5-4d08-8150-1016cb761c97",
   "metadata": {},
   "source": [
    "# Text Preprocessing"
   ]
  },
  {
   "cell_type": "code",
   "execution_count": 3,
   "id": "0c159775-12f6-46ee-8477-fc7bf8ac12b8",
   "metadata": {},
   "outputs": [
    {
     "name": "stdout",
     "output_type": "stream",
     "text": [
      "0    darrell lucus house dem aide even see comey le...\n",
      "1    daniel j flynn flynn hillary clinton big woman...\n",
      "2    consortiumnews com truth might get fired truth...\n",
      "3    jessica purkiss civilian killed single u airst...\n",
      "4    howard portnoy iranian woman jailed fictional ...\n",
      "Name: content, dtype: object\n"
     ]
    }
   ],
   "source": [
    "lemmatizer = WordNetLemmatizer()\n",
    "stop_words = set(stopwords.words('english'))\n",
    "\n",
    "def preprocess_text(content):\n",
    "    content = re.sub('[^a-zA-Z]', ' ', content).lower()\n",
    "    tokens = word_tokenize(content)\n",
    "    lemmatized = [lemmatizer.lemmatize(word) for word in tokens if word not in stop_words]\n",
    "    return ' '.join(lemmatized)\n",
    "\n",
    "news_dataset['content'] = news_dataset['content'].apply(preprocess_text)\n",
    "\n",
    "print(news_dataset['content'].head())"
   ]
  },
  {
   "cell_type": "code",
   "execution_count": 4,
   "id": "c6ce36e3-7c9b-421a-9914-02a25061b1ee",
   "metadata": {},
   "outputs": [],
   "source": [
    "X = news_dataset['content']\n",
    "y = news_dataset['label']\n",
    "\n",
    "y = y.values"
   ]
  },
  {
   "cell_type": "markdown",
   "id": "1e5bac50-b293-4b00-8ff8-eb6e3c9bf988",
   "metadata": {},
   "source": [
    "# Text to Number"
   ]
  },
  {
   "cell_type": "code",
   "execution_count": 5,
   "id": "bf57af1b-3785-4df4-974b-305708be5dd4",
   "metadata": {},
   "outputs": [
    {
     "name": "stdout",
     "output_type": "stream",
     "text": [
      "Feature matrix shape: (20800, 5000)\n"
     ]
    }
   ],
   "source": [
    "vectorizer = TfidfVectorizer(max_features=5000, ngram_range=(1, 2))  # Include unigrams and bigrams\n",
    "\n",
    "X = vectorizer.fit_transform(X)\n",
    "\n",
    "print(f\"Feature matrix shape: {X.shape}\")"
   ]
  },
  {
   "cell_type": "markdown",
   "id": "6423d788-db26-4dab-9450-d1a359bf87d8",
   "metadata": {},
   "source": [
    "# Class imbalance"
   ]
  },
  {
   "cell_type": "code",
   "execution_count": 6,
   "id": "cde3777e-5972-40d8-b1dd-8c4762fe2e34",
   "metadata": {},
   "outputs": [
    {
     "name": "stdout",
     "output_type": "stream",
     "text": [
      "Class distribution after SMOTE: [10413 10413]\n"
     ]
    }
   ],
   "source": [
    "smote = SMOTE(random_state=42)\n",
    "X, y = smote.fit_resample(X, y)\n",
    "\n",
    "print(\"Class distribution after SMOTE:\", np.bincount(y))"
   ]
  },
  {
   "cell_type": "markdown",
   "id": "b3c81e6e-98a7-4334-b772-a4b4d728bb0b",
   "metadata": {},
   "source": [
    "# Test Train"
   ]
  },
  {
   "cell_type": "code",
   "execution_count": 7,
   "id": "02a8e981-ffd4-4b83-85dd-c30db6bf6ba9",
   "metadata": {},
   "outputs": [
    {
     "name": "stdout",
     "output_type": "stream",
     "text": [
      "Training set size: (16660, 5000), Testing set size: (4166, 5000)\n"
     ]
    }
   ],
   "source": [
    "X_train, X_test, y_train, y_test = train_test_split(X, y, test_size=0.2, random_state=2, stratify=y)\n",
    "\n",
    "print(f\"Training set size: {X_train.shape}, Testing set size: {X_test.shape}\")"
   ]
  },
  {
   "cell_type": "markdown",
   "id": "bacb6835-8f9c-4f8c-9bf5-c9235d18c089",
   "metadata": {},
   "source": [
    "# Logistic Regression"
   ]
  },
  {
   "cell_type": "code",
   "execution_count": 8,
   "id": "74a42520-cb32-41f4-965f-42ce9bdec5c7",
   "metadata": {},
   "outputs": [
    {
     "name": "stdout",
     "output_type": "stream",
     "text": [
      "Fitting 5 folds for each of 30 candidates, totalling 150 fits\n",
      "Best Parameters: {'C': 10, 'max_iter': 100, 'solver': 'liblinear'}\n",
      "Best Cross-Validation Accuracy: 0.9686074429771908\n"
     ]
    }
   ],
   "source": [
    "param_grid = {\n",
    "    'C': [0.01, 0.1, 1, 10, 100],  # Regularization strength\n",
    "    'solver': ['liblinear', 'lbfgs'],  # Optimization algorithm\n",
    "    'max_iter': [100, 200, 500]  # Maximum number of iterations\n",
    "}\n",
    "\n",
    "log_reg = LogisticRegression()\n",
    "\n",
    "grid_search = GridSearchCV(estimator=log_reg, param_grid=param_grid, scoring='accuracy', cv=5, verbose=1)\n",
    "\n",
    "grid_search.fit(X_train, y_train)\n",
    "\n",
    "print(\"Best Parameters:\", grid_search.best_params_)\n",
    "print(\"Best Cross-Validation Accuracy:\", grid_search.best_score_)\n",
    "\n",
    "best_log_model = grid_search.best_estimator_"
   ]
  },
  {
   "cell_type": "markdown",
   "id": "ac067fdc-bfe0-455a-b96b-9f1e361bbcc8",
   "metadata": {},
   "source": [
    "# Random Forest"
   ]
  },
  {
   "cell_type": "code",
   "execution_count": 9,
   "id": "2099d803-ba03-4afb-971c-4a4bc490bf4a",
   "metadata": {},
   "outputs": [
    {
     "name": "stdout",
     "output_type": "stream",
     "text": [
      "Random Forest Test Accuracy: 0.9686\n"
     ]
    }
   ],
   "source": [
    "rf_model = RandomForestClassifier(random_state=42)\n",
    "\n",
    "rf_model.fit(X_train, y_train)\n",
    "\n",
    "y_test_pred_rf = rf_model.predict(X_test)\n",
    "rf_test_accuracy = accuracy_score(y_test, y_test_pred_rf)\n",
    "\n",
    "print(f\"Random Forest Test Accuracy: {rf_test_accuracy:.4f}\")"
   ]
  },
  {
   "cell_type": "markdown",
   "id": "f6abc8b9-7c1b-4405-94d6-b6bcccc34d1f",
   "metadata": {},
   "source": [
    "# XG Boost"
   ]
  },
  {
   "cell_type": "code",
   "execution_count": 11,
   "id": "390a327e-f7d3-47da-a90f-a1d4e283d9ca",
   "metadata": {},
   "outputs": [
    {
     "name": "stdout",
     "output_type": "stream",
     "text": [
      "XGBoost Test Accuracy: 0.9825\n"
     ]
    }
   ],
   "source": [
    "xgb_model = XGBClassifier(eval_metric='logloss', random_state=42)\n",
    "\n",
    "xgb_model.fit(X_train, y_train)\n",
    "\n",
    "y_test_pred_xgb = xgb_model.predict(X_test)\n",
    "xgb_test_accuracy = accuracy_score(y_test, y_test_pred_xgb)\n",
    "\n",
    "print(f\"XGBoost Test Accuracy: {xgb_test_accuracy:.4f}\")"
   ]
  },
  {
   "cell_type": "markdown",
   "id": "1e0d4d9d-fbe3-4011-aad4-7b71a9d5c80a",
   "metadata": {},
   "source": [
    "# SVM"
   ]
  },
  {
   "cell_type": "code",
   "execution_count": 12,
   "id": "57331266-a66f-4d48-aecf-df1f5711d7cb",
   "metadata": {},
   "outputs": [
    {
     "name": "stdout",
     "output_type": "stream",
     "text": [
      "SVM Test Accuracy: 0.9676\n"
     ]
    }
   ],
   "source": [
    "svm_model = SVC(kernel='linear', random_state=42)\n",
    "\n",
    "svm_model.fit(X_train, y_train)\n",
    "\n",
    "y_test_pred_svm = svm_model.predict(X_test)\n",
    "svm_test_accuracy = accuracy_score(y_test, y_test_pred_svm)\n",
    "\n",
    "print(f\"SVM Test Accuracy: {svm_test_accuracy:.4f}\")"
   ]
  },
  {
   "cell_type": "markdown",
   "id": "1584ce49-5149-4a09-b76f-086be8b5983f",
   "metadata": {},
   "source": [
    "# Predictions and accuracy"
   ]
  },
  {
   "cell_type": "code",
   "execution_count": 13,
   "id": "e21879d5-9bb8-4404-99b1-2edb17335b2c",
   "metadata": {},
   "outputs": [
    {
     "name": "stdout",
     "output_type": "stream",
     "text": [
      "\n",
      "Model Comparison:\n",
      "Logistic Regression: Test Accuracy = 0.9686\n",
      "Random Forest: Test Accuracy = 0.9686\n",
      "XGBoost: Test Accuracy = 0.9825\n",
      "SVM: Test Accuracy = 0.9676\n"
     ]
    }
   ],
   "source": [
    "model_accuracies = {\n",
    "    'Logistic Regression': grid_search.best_score_,  # Use cross-validation score for fairness\n",
    "    'Random Forest': rf_test_accuracy,\n",
    "    'XGBoost': xgb_test_accuracy,\n",
    "    'SVM': svm_test_accuracy\n",
    "}\n",
    "\n",
    "print(\"\\nModel Comparison:\")\n",
    "for model, accuracy in model_accuracies.items():\n",
    "    print(f\"{model}: Test Accuracy = {accuracy:.4f}\")"
   ]
  },
  {
   "cell_type": "code",
   "execution_count": 14,
   "id": "fc8c147d-6c2b-47d5-a7da-419b4d7c7a7b",
   "metadata": {},
   "outputs": [
    {
     "name": "stdout",
     "output_type": "stream",
     "text": [
      "\n",
      "Classification Report (Logistic Regression):\n",
      "              precision    recall  f1-score   support\n",
      "\n",
      "           0       0.97      0.97      0.97      2083\n",
      "           1       0.97      0.97      0.97      2083\n",
      "\n",
      "    accuracy                           0.97      4166\n",
      "   macro avg       0.97      0.97      0.97      4166\n",
      "weighted avg       0.97      0.97      0.97      4166\n",
      "\n",
      "\n",
      "Classification Report (Random Forest):\n",
      "              precision    recall  f1-score   support\n",
      "\n",
      "           0       0.97      0.97      0.97      2083\n",
      "           1       0.97      0.97      0.97      2083\n",
      "\n",
      "    accuracy                           0.97      4166\n",
      "   macro avg       0.97      0.97      0.97      4166\n",
      "weighted avg       0.97      0.97      0.97      4166\n",
      "\n",
      "\n",
      "Classification Report (XGBoost):\n",
      "              precision    recall  f1-score   support\n",
      "\n",
      "           0       0.99      0.98      0.98      2083\n",
      "           1       0.98      0.99      0.98      2083\n",
      "\n",
      "    accuracy                           0.98      4166\n",
      "   macro avg       0.98      0.98      0.98      4166\n",
      "weighted avg       0.98      0.98      0.98      4166\n",
      "\n",
      "\n",
      "Classification Report (SVM):\n",
      "              precision    recall  f1-score   support\n",
      "\n",
      "           0       0.97      0.97      0.97      2083\n",
      "           1       0.97      0.97      0.97      2083\n",
      "\n",
      "    accuracy                           0.97      4166\n",
      "   macro avg       0.97      0.97      0.97      4166\n",
      "weighted avg       0.97      0.97      0.97      4166\n",
      "\n"
     ]
    }
   ],
   "source": [
    "print(\"\\nClassification Report (Logistic Regression):\")\n",
    "print(classification_report(y_test, best_log_model.predict(X_test)))\n",
    "\n",
    "print(\"\\nClassification Report (Random Forest):\")\n",
    "print(classification_report(y_test, y_test_pred_rf))\n",
    "\n",
    "print(\"\\nClassification Report (XGBoost):\")\n",
    "print(classification_report(y_test, y_test_pred_xgb))\n",
    "\n",
    "print(\"\\nClassification Report (SVM):\")\n",
    "print(classification_report(y_test, y_test_pred_svm))"
   ]
  },
  {
   "cell_type": "code",
   "execution_count": 15,
   "id": "7ca667bf-583e-4356-ac23-09f1aba323b4",
   "metadata": {},
   "outputs": [
    {
     "data": {
      "image/png": "[encoded data removed]",
      "text/plain": [
       "<Figure size 600x400 with 2 Axes>"
      ]
     },
     "metadata": {},
     "output_type": "display_data"
    },
    {
     "data": {
      "image/png": "[encoded data removed]",
      "text/plain": [
       "<Figure size 600x400 with 2 Axes>"
      ]
     },
     "metadata": {},
     "output_type": "display_data"
    },
    {
     "data": {
      "image/png": "[encoded data removed]",
      "text/plain": [
       "<Figure size 600x400 with 2 Axes>"
      ]
     },
     "metadata": {},
     "output_type": "display_data"
    },
    {
     "data": {
      "image/png": "[encoded data removed]",
      "text/plain": [
       "<Figure size 600x400 with 2 Axes>"
      ]
     },
     "metadata": {},
     "output_type": "display_data"
    }
   ],
   "source": [
    "import seaborn as sns\n",
    "import matplotlib.pyplot as plt\n",
    "\n",
    "def plot_confusion_matrix(y_true, y_pred, title):\n",
    "    cm = confusion_matrix(y_true, y_pred)\n",
    "    plt.figure(figsize=(6, 4))\n",
    "    sns.heatmap(cm, annot=True, fmt='d', cmap='Blues', xticklabels=['Fake', 'Real'], yticklabels=['Fake', 'Real'])\n",
    "    plt.title(title)\n",
    "    plt.xlabel('Predicted')\n",
    "    plt.ylabel('Actual')\n",
    "    plt.show()\n",
    "\n",
    "plot_confusion_matrix(y_test, best_log_model.predict(X_test), \"Logistic Regression Confusion Matrix\")\n",
    "plot_confusion_matrix(y_test, y_test_pred_rf, \"Random Forest Confusion Matrix\")\n",
    "plot_confusion_matrix(y_test, y_test_pred_xgb, \"XGBoost Confusion Matrix\")\n",
    "plot_confusion_matrix(y_test, y_test_pred_svm, \"SVM Confusion Matrix\")\n"
   ]
  },
  {
   "cell_type": "markdown",
   "id": "d5ca3034-e292-489f-afe4-230862f39075",
   "metadata": {},
   "source": [
    "# Save Model"
   ]
  },
  {
   "cell_type": "code",
   "execution_count": 16,
   "id": "09257717-10c7-4c07-b07a-cc8ac10fc4c8",
   "metadata": {},
   "outputs": [
    {
     "name": "stdout",
     "output_type": "stream",
     "text": [
      "Best model saved successfully!\n"
     ]
    }
   ],
   "source": [
    "import pickle\n",
    "\n",
    "with open('best_model.pkl', 'wb') as file:\n",
    "    pickle.dump(xgb_model, file)\n",
    "\n",
    "print(\"Best model saved successfully!\")"
   ]
  },
  {
   "cell_type": "code",
   "execution_count": 18,
   "id": "fdd5b592-c84d-4e89-acb3-8a34ee05a16f",
   "metadata": {},
   "outputs": [],
   "source": [
    "with open('vectorizer.pkl', 'wb') as vec_file:\n",
    "    pickle.dump(vectorizer, vec_file)"
   ]
  },
  {
   "cell_type": "code",
   "execution_count": null,
   "id": "d8beb1c3-906f-4f06-a23b-1a2f6cd8bd91",
   "metadata": {},
   "outputs": [],
   "source": []
  }
 ],
 "metadata": {
  "kernelspec": {
   "display_name": "Python 3 (ipykernel)",
   "language": "python",
   "name": "python3"
  },
  "language_info": {
   "codemirror_mode": {
    "name": "ipython",
    "version": 3
   },
   "file_extension": ".py",
   "mimetype": "text/x-python",
   "name": "python",
   "nbconvert_exporter": "python",
   "pygments_lexer": "ipython3",
   "version": "3.12.4"
  }
 },
 "nbformat": 4,
 "nbformat_minor": 5
}
